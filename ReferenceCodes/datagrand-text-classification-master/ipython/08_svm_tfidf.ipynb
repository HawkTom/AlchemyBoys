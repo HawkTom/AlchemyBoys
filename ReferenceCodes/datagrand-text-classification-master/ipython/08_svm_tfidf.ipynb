{
 "cells": [
  {
   "cell_type": "code",
   "execution_count": 1,
   "metadata": {},
   "outputs": [],
   "source": [
    "import gc\n",
    "import time\n",
    "import pandas as pd\n",
    "from sklearn.svm import LinearSVC\n",
    "from sklearn.feature_extraction.text import TfidfVectorizer"
   ]
  },
  {
   "cell_type": "code",
   "execution_count": 2,
   "metadata": {},
   "outputs": [
    {
     "data": {
      "text/plain": [
       "14"
      ]
     },
     "execution_count": 2,
     "metadata": {},
     "output_type": "execute_result"
    }
   ],
   "source": [
    "# ============================================================================\n",
    "# Load data\n",
    "\n",
    "train_data_file = \"../raw_data/train_demo.csv\"\n",
    "test_data_file = \"../raw_data/test_demo.csv\"\n",
    "df_train = pd.read_csv(train_data_file)\n",
    "df_test = pd.read_csv(test_data_file)\n",
    "\n",
    "X_train = df_train['word_seg']\n",
    "y_train = df_train['class']\n",
    "X_test = df_test['word_seg']\n",
    "id_test = df_test['id']\n",
    "\n",
    "del df_train, df_test\n",
    "gc.collect()"
   ]
  },
  {
   "cell_type": "code",
   "execution_count": 3,
   "metadata": {},
   "outputs": [
    {
     "name": "stdout",
     "output_type": "stream",
     "text": [
      "Start training...\n",
      "Total second: 6s\n",
      "Training finish! ( ^ _ ^ ) V \n"
     ]
    }
   ],
   "source": [
    "# ============================================================================\n",
    "# Extract features and train SVM model\n",
    "\n",
    "vectorizer = TfidfVectorizer(ngram_range=(1, 2), min_df=3, max_df=0.9, sublinear_tf=True)\n",
    "bigram_tfidf_train = vectorizer.fit_transform(X_train)\n",
    "bigram_tfidf_test = vectorizer.transform(X_test)\n",
    "\n",
    "print(\"Start training...\")\n",
    "clf = LinearSVC()\n",
    "t0 = time.time()\n",
    "clf.fit(bigram_tfidf_train, y_train - 1)\n",
    "print(\"Total second: %ds\" % (time.time() - t0))\n",
    "print(\"Training finish! ( ^ _ ^ ) V \")"
   ]
  },
  {
   "cell_type": "code",
   "execution_count": 4,
   "metadata": {},
   "outputs": [],
   "source": [
    "# ============================================================================\n",
    "# Make submission\n",
    "\n",
    "y_test = clf.predict(bigram_tfidf_test) + 1\n",
    "submission = pd.DataFrame()\n",
    "submission['id'] = id_test\n",
    "submission['class'] = y_test\n",
    "submission.to_csv(\"submission.csv\", index=False)"
   ]
  },
  {
   "cell_type": "code",
   "execution_count": null,
   "metadata": {},
   "outputs": [],
   "source": []
  }
 ],
 "metadata": {
  "kernelspec": {
   "display_name": "Python 3",
   "language": "python",
   "name": "python3"
  },
  "language_info": {
   "codemirror_mode": {
    "name": "ipython",
    "version": 3
   },
   "file_extension": ".py",
   "mimetype": "text/x-python",
   "name": "python",
   "nbconvert_exporter": "python",
   "pygments_lexer": "ipython3",
   "version": "3.6.5"
  }
 },
 "nbformat": 4,
 "nbformat_minor": 2
}
