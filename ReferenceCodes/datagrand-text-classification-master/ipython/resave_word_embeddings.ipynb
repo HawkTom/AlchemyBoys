{
 "cells": [
  {
   "cell_type": "code",
   "execution_count": 1,
   "metadata": {},
   "outputs": [],
   "source": [
    "import pickle\n",
    "import numpy as np\n",
    "import pandas as pd"
   ]
  },
  {
   "cell_type": "code",
   "execution_count": 2,
   "metadata": {},
   "outputs": [],
   "source": [
    "EMBEDDING_SIZE = 300\n",
    "SPECIAL_SYMBOLS = ['<PAD>', '<UNK>']"
   ]
  },
  {
   "cell_type": "code",
   "execution_count": 3,
   "metadata": {},
   "outputs": [],
   "source": [
    "# np.random.seed(10)\n",
    "# word_embedding_file = \"../word_vectors/demo/demo-char-300d.txt\"\n",
    "# with open(word_embedding_file, 'r', encoding='utf-8') as f:\n",
    "#     lines = f.read().splitlines()[1:]\n",
    "#     words = list(SPECIAL_SYMBOL)\n",
    "#     word_embeddings = list()\n",
    "#     word_embeddings.append(np.zeros(EMBEDDING_SIZE, dtype=np.float32))  # the values of 'PAD' are all zero\n",
    "#     word_embeddings.append(np.random.randn(EMBEDDING_SIZE))  # the values of 'UNK' satisfy the normal distribution\n",
    "#     for line in lines:\n",
    "#         cols = line.split()\n",
    "#         words.append(cols[0])\n",
    "#         word_embeddings.append(np.array(cols[1:], dtype=np.float32))"
   ]
  },
  {
   "cell_type": "code",
   "execution_count": 4,
   "metadata": {},
   "outputs": [
    {
     "name": "stdout",
     "output_type": "stream",
     "text": [
      "Load words and its corresponding embeddings...\n"
     ]
    }
   ],
   "source": [
    "# Load words and its corresponding embeddings\n",
    "# ===========================================================================================\n",
    "\n",
    "print(\"Load words and its corresponding embeddings...\")\n",
    "np.random.seed(42)\n",
    "word_embedding_file = \"../word_vectors/demo/demo-word-300d.txt\"\n",
    "with open(word_embedding_file, 'r', encoding='utf-8') as f:\n",
    "    lines = f.read().splitlines()[1:]\n",
    "\n",
    "    word_to_id_map = dict()\n",
    "    id_to_word_map = dict()\n",
    "    for i, symbol in enumerate(SPECIAL_SYMBOLS):\n",
    "        id_to_word_map[i] = symbol\n",
    "        word_to_id_map[symbol] = i\n",
    "\n",
    "    num_total_symbols = len(lines) + len(SPECIAL_SYMBOLS)\n",
    "    word_embeddings = np.zeros((num_total_symbols, EMBEDDING_SIZE), dtype=np.float32)\n",
    "    word_embeddings[1] = np.random.randn(EMBEDDING_SIZE)  # the values of 'UNK' satisfy the normal distribution\n",
    "\n",
    "    index = 2\n",
    "    for line in lines:\n",
    "        cols = line.split()\n",
    "        id_to_word_map[index] = cols[0]\n",
    "        word_to_id_map[cols[0]] = index\n",
    "        word_embeddings[index] = np.array(cols[1:], dtype=np.float32)\n",
    "        index += 1"
   ]
  },
  {
   "cell_type": "code",
   "execution_count": 5,
   "metadata": {},
   "outputs": [
    {
     "name": "stdout",
     "output_type": "stream",
     "text": [
      "Save to file...\n",
      "Finished! ( ^ _ ^ ) V\n"
     ]
    }
   ],
   "source": [
    "# Save to file\n",
    "# ===========================================================================================\n",
    "\n",
    "print(\"Save to file...\")\n",
    "id2word_file = \"../processed_data/id2word.pkl\"\n",
    "word2id_file = \"../processed_data/word2id.pkl\"\n",
    "word_embeddings_file = \"../word_vectors/word-embedding-300d-mc5.npy\"\n",
    "with open(id2word_file, 'wb') as fout:\n",
    "    pickle.dump(id_to_word_map, fout)\n",
    "with open(word2id_file, 'wb') as fout:\n",
    "    pickle.dump(word_to_id_map, fout)\n",
    "np.save(word_embeddings_file, word_embeddings)\n",
    "print(\"Finished! ( ^ _ ^ ) V\")"
   ]
  },
  {
   "cell_type": "code",
   "execution_count": null,
   "metadata": {},
   "outputs": [],
   "source": []
  }
 ],
 "metadata": {
  "kernelspec": {
   "display_name": "Python 3",
   "language": "python",
   "name": "python3"
  },
  "language_info": {
   "codemirror_mode": {
    "name": "ipython",
    "version": 3
   },
   "file_extension": ".py",
   "mimetype": "text/x-python",
   "name": "python",
   "nbconvert_exporter": "python",
   "pygments_lexer": "ipython3",
   "version": "3.6.5"
  }
 },
 "nbformat": 4,
 "nbformat_minor": 2
}
