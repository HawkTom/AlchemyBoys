{
 "cells": [
  {
   "cell_type": "code",
   "execution_count": 1,
   "metadata": {},
   "outputs": [],
   "source": [
    "import gc\n",
    "import pickle\n",
    "import numpy as np"
   ]
  },
  {
   "cell_type": "code",
   "execution_count": 2,
   "metadata": {},
   "outputs": [],
   "source": [
    "EMBEDDING_SIZE = 300\n",
    "SPECIAL_SYMBOLS = ['<PAD>', '<UNK>']"
   ]
  },
  {
   "cell_type": "code",
   "execution_count": 3,
   "metadata": {},
   "outputs": [],
   "source": [
    "def load_embedding(embedding_file):\n",
    "    \"\"\"Load embeddings from file.\"\"\"\n",
    "    np.random.seed(42)\n",
    "\n",
    "    with open(embedding_file, 'r', encoding='utf-8') as f:\n",
    "        lines = f.read().splitlines()[1:]  # remove first line (embedding description line)\n",
    "\n",
    "    id_to_symbol_map = dict()\n",
    "    symbol_to_id_map = dict()\n",
    "    for i, symbol in enumerate(SPECIAL_SYMBOLS):\n",
    "        id_to_symbol_map[i] = symbol\n",
    "        symbol_to_id_map[symbol] = i\n",
    "\n",
    "    num_total_symbols = len(SPECIAL_SYMBOLS) + len(lines)\n",
    "    embeddings = np.zeros((num_total_symbols, EMBEDDING_SIZE), dtype=np.float32)\n",
    "    embeddings[1] = np.random.randn(EMBEDDING_SIZE)  # the values of 'UNK' satisfy the normal distribution\n",
    "\n",
    "    index = 2\n",
    "    for line in lines:\n",
    "        cols = line.split()\n",
    "        id_to_symbol_map[index] = cols[0]\n",
    "        symbol_to_id_map[cols[0]] = index\n",
    "        embeddings[index] = np.array(cols[1:], dtype=np.float32)\n",
    "        index += 1\n",
    "\n",
    "    return id_to_symbol_map, symbol_to_id_map, embeddings"
   ]
  },
  {
   "cell_type": "code",
   "execution_count": 4,
   "metadata": {},
   "outputs": [
    {
     "name": "stdout",
     "output_type": "stream",
     "text": [
      "[INFO] Load character embeddings...\n",
      "[INFO] Finished!\n",
      "[INFO] Save character embeddings...\n",
      "[INFO] Finish!\n"
     ]
    }
   ],
   "source": [
    "print(\"[INFO] Load character embeddings...\")\n",
    "char_embedding_file = \"../embeddings/datagrand-char-300d.txt\"\n",
    "id_to_char_map, char_to_id_map, char_embeddings = load_embedding(char_embedding_file)\n",
    "print(\"[INFO] Finished!\")\n",
    "\n",
    "print(\"[INFO] Save character embeddings...\")\n",
    "id_to_char_file = \"../embeddings/id2char.pkl\"\n",
    "char_to_id_file = \"../embeddings/char2id.pkl\"\n",
    "char_embedding_resave_file = \"../embeddings/char-embedding-300d.npy\"\n",
    "with open(id_to_char_file, 'wb') as fout:\n",
    "    pickle.dump(id_to_char_map, fout)\n",
    "with open(char_to_id_file, 'wb') as fout:\n",
    "    pickle.dump(char_to_id_map, fout)\n",
    "np.save(char_embedding_resave_file, char_embeddings)\n",
    "print(\"[INFO] Finish!\")"
   ]
  },
  {
   "cell_type": "code",
   "execution_count": 8,
   "metadata": {},
   "outputs": [
    {
     "name": "stdout",
     "output_type": "stream",
     "text": [
      "[INFO] Load word embeddings...\n",
      "[INFO] Finished!\n",
      "[INFO] Save word embeddings...\n",
      "[INFO] Finished!\n"
     ]
    }
   ],
   "source": [
    "print(\"[INFO] Load word embeddings...\")\n",
    "word_embedding_file = \"../embeddings/datagrand-word-300d-mc5.txt\"\n",
    "id_to_word_map, word_to_id_map, word_embeddings = load_embedding(word_embedding_file)\n",
    "print(\"[INFO] Finished!\")\n",
    "\n",
    "print(\"[INFO] Save word embeddings...\")\n",
    "id_to_word_file = \"../embeddings/id2word.pkl\"\n",
    "word_to_id_file = \"../embeddings/word2id.pkl\"\n",
    "word_embedding_resave_file = \"../embeddings/word-embedding-300d-mc5.npy\"\n",
    "with open(id_to_word_file, 'wb') as fout:\n",
    "    pickle.dump(id_to_word_map, fout)\n",
    "with open(word_to_id_file, 'wb') as fout:\n",
    "    pickle.dump(word_to_id_map, fout)\n",
    "np.save(word_embedding_resave_file, word_embeddings)\n",
    "print(\"[INFO] Finished!\")"
   ]
  },
  {
   "cell_type": "code",
   "execution_count": 9,
   "metadata": {},
   "outputs": [
    {
     "data": {
      "text/plain": [
       "array([ 1.2212521 , -0.06116424, -0.19192894,  0.51793087,  0.1848969 ,\n",
       "        0.9527769 , -0.5778866 ,  0.11118562,  0.11691932,  0.25371534,\n",
       "        0.21012627,  0.62569594,  0.17096189, -0.78364635,  0.5207289 ,\n",
       "       -0.49645147, -0.5726804 ,  0.05635048, -0.08855154,  0.59203625,\n",
       "        0.7423577 ,  0.69640523,  0.9022525 ,  0.35679343,  0.05574984,\n",
       "       -0.69267005,  0.82577163, -0.36317262,  0.9017204 , -0.8380331 ,\n",
       "        0.03586778, -0.65469474, -0.08629435, -0.31037307,  0.23852949,\n",
       "        0.40245318, -0.03340949, -0.22538517,  0.46168897,  0.09116583,\n",
       "        0.39175525, -0.434022  ,  0.24586189,  0.89946675, -0.73305327,\n",
       "       -0.5462546 ,  1.1267072 ,  0.4467849 , -0.25153682, -0.2693534 ,\n",
       "       -0.31919602, -0.05951995, -0.48350054, -0.6665287 , -0.02056065,\n",
       "        0.40230462,  0.06258436,  0.54501843, -0.46241704, -0.10373703,\n",
       "       -0.43801343,  0.08152869, -0.34052062, -0.03037879,  0.01073134,\n",
       "        1.0435497 , -0.25409582, -1.0748522 ,  1.0755184 ,  0.26984435,\n",
       "       -0.4339481 , -0.2936895 ,  0.996831  , -0.17036916,  0.05677558,\n",
       "        0.04087627,  0.6639224 , -0.08020627, -0.01415689,  0.53480864,\n",
       "        0.40963635, -0.4852678 ,  0.99943054,  0.28721702, -0.07611617,\n",
       "        0.84450674, -0.2732837 , -0.47476858,  1.1093794 , -0.6871322 ,\n",
       "       -0.5601956 ,  0.8494283 ,  0.82866746, -0.14800195,  0.13360867,\n",
       "       -0.24558768, -0.18159844, -0.5608727 ,  0.381243  , -0.29967532,\n",
       "        0.05300565, -0.68877125,  0.40936312,  0.28631482,  0.15714446,\n",
       "       -0.04228154, -0.42234072, -0.95429707, -0.45622608,  0.6458209 ,\n",
       "       -0.03556098, -0.39642933,  0.22184405,  0.05609411,  0.62845206,\n",
       "        0.35141447, -0.13789874,  0.9138262 ,  0.5789411 ,  0.1281806 ,\n",
       "        0.17961015,  0.125433  ,  0.5476412 , -0.38809502,  0.2694212 ,\n",
       "        0.64833117,  0.47951472,  1.0036163 ,  0.86027455,  0.41037318,\n",
       "       -0.38055247, -0.30929375,  0.01333184,  0.08363093,  0.09288289,\n",
       "       -0.71106404, -0.6179389 , -0.7390548 ,  0.15221345, -0.47954497,\n",
       "       -0.24933605,  0.3779166 , -0.3480087 ,  0.11286746,  0.30387816,\n",
       "       -0.5431783 , -0.0827567 , -0.31439045, -0.5767279 ,  0.23860879,\n",
       "        0.06995647,  0.8427801 , -0.16432446, -0.3843092 ,  0.5330201 ,\n",
       "        0.5363413 ,  0.29193202,  0.81335074, -0.05393989,  0.22252738,\n",
       "        0.36323074,  0.3694105 , -0.27276736, -0.37196845,  0.267067  ,\n",
       "        0.3361634 , -0.3056546 , -0.36580867, -0.7517442 , -0.5949468 ,\n",
       "       -0.4892004 , -0.5135707 , -0.35106152,  0.26258138, -0.13317463,\n",
       "       -0.624054  ,  0.31974828, -0.1293808 , -0.53467214, -0.03524048,\n",
       "        0.19390802, -0.904212  , -0.497595  , -1.2366964 , -0.11164988,\n",
       "       -0.5337529 , -0.0318564 , -0.57416594,  0.09700639,  0.36982548,\n",
       "       -0.11025287,  0.8116011 ,  0.1937868 ,  0.4571346 , -0.72646075,\n",
       "       -0.0174397 , -0.5349034 ,  0.2574381 ,  0.38562423,  0.5533572 ,\n",
       "        0.2611501 ,  0.27891937, -1.2509966 ,  0.01058509, -0.00444531,\n",
       "        1.2061852 , -0.4698385 ,  0.08301079,  0.37566033,  0.02896794,\n",
       "        0.2704161 ,  0.07039825,  1.0172118 ,  0.20919468,  1.387424  ,\n",
       "        0.1188157 , -0.20339127,  0.2670623 , -0.251272  ,  0.49107212,\n",
       "       -0.15902437,  0.12434156, -0.4497498 , -0.24982461,  0.29755715,\n",
       "        0.1896727 ,  0.3568333 ,  0.56822824,  0.13880843,  0.40256605,\n",
       "       -0.36775157, -0.41367245, -0.17374936,  0.43948114, -0.17153366,\n",
       "        0.00593148, -1.7595077 , -0.70414895,  0.55127454,  0.11168727,\n",
       "        0.9534903 , -0.00296269,  0.65463144,  0.6475431 , -0.32590374,\n",
       "        0.8534282 , -0.06514725,  0.16541553,  0.31759113,  0.21386757,\n",
       "       -0.330045  , -0.3841644 , -0.96484876,  0.5313142 ,  0.15218705,\n",
       "       -0.97057545, -0.50123197, -0.6069017 , -0.1084096 , -0.16138653,\n",
       "       -0.9769881 ,  0.33148038, -0.1051234 , -0.4209575 ,  0.7443084 ,\n",
       "        0.4487687 , -0.39373928, -0.67317104, -0.45945925, -0.24889313,\n",
       "        0.13060476, -0.28303283, -0.3977407 , -0.4415551 ,  0.1161994 ,\n",
       "        0.11845411,  0.6524025 , -0.00566884,  0.15793502,  0.1734779 ,\n",
       "        0.00421218,  0.30635992,  0.41527465,  0.7559114 , -0.8046011 ,\n",
       "       -0.2702023 ,  0.50254124, -0.60874397,  0.8565067 ,  0.4872757 ,\n",
       "       -0.528364  ,  0.11192935, -0.38771415,  0.4553541 , -0.0097871 ,\n",
       "       -0.5630069 ,  0.17176509,  0.13581485, -0.31995827, -0.14097585],\n",
       "      dtype=float32)"
      ]
     },
     "execution_count": 9,
     "metadata": {},
     "output_type": "execute_result"
    }
   ],
   "source": [
    "word_embeddings[2]"
   ]
  },
  {
   "cell_type": "code",
   "execution_count": null,
   "metadata": {},
   "outputs": [],
   "source": []
  }
 ],
 "metadata": {
  "kernelspec": {
   "display_name": "Python 3",
   "language": "python",
   "name": "python3"
  },
  "language_info": {
   "codemirror_mode": {
    "name": "ipython",
    "version": 3
   },
   "file_extension": ".py",
   "mimetype": "text/x-python",
   "name": "python",
   "nbconvert_exporter": "python",
   "pygments_lexer": "ipython3",
   "version": "3.6.5"
  }
 },
 "nbformat": 4,
 "nbformat_minor": 2
}
