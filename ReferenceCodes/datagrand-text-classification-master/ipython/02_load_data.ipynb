{
 "cells": [
  {
   "cell_type": "code",
   "execution_count": 1,
   "metadata": {},
   "outputs": [],
   "source": [
    "import numpy as np\n",
    "import pandas as pd"
   ]
  },
  {
   "cell_type": "code",
   "execution_count": 37,
   "metadata": {},
   "outputs": [],
   "source": [
    "def load_data_and_labels(data_file):\n",
    "    \"\"\"Load the dataset of datagrand text classification competition.\"\"\"\n",
    "    lines = open(data_file, 'r', encoding='utf-8').read().splitlines()[1:]\n",
    "    x_text = [line.split(',')[1] for line in lines]\n",
    "    labels = [int(line.split(',')[3]) for line in lines]\n",
    "    num_classes = max(labels)\n",
    "    y = np.zeros((len(labels), num_classes), dtype=np.int32)\n",
    "    for n, label in enumerate(labels):\n",
    "        y[n, label-1] = 1\n",
    "    return x_text, y"
   ]
  },
  {
   "cell_type": "code",
   "execution_count": null,
   "metadata": {},
   "outputs": [],
   "source": []
  }
 ],
 "metadata": {
  "kernelspec": {
   "display_name": "Python 3",
   "language": "python",
   "name": "python3"
  },
  "language_info": {
   "codemirror_mode": {
    "name": "ipython",
    "version": 3
   },
   "file_extension": ".py",
   "mimetype": "text/x-python",
   "name": "python",
   "nbconvert_exporter": "python",
   "pygments_lexer": "ipython3",
   "version": "3.6.5"
  }
 },
 "nbformat": 4,
 "nbformat_minor": 2
}
