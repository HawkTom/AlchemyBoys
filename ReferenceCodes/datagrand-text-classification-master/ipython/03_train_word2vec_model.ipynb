{
 "cells": [
  {
   "cell_type": "code",
   "execution_count": 1,
   "metadata": {},
   "outputs": [
    {
     "name": "stderr",
     "output_type": "stream",
     "text": [
      "D:\\Anaconda3\\envs\\py3_for_prac\\lib\\site-packages\\gensim\\utils.py:1209: UserWarning: detected Windows; aliasing chunkize to chunkize_serial\n",
      "  warnings.warn(\"detected Windows; aliasing chunkize to chunkize_serial\")\n"
     ]
    }
   ],
   "source": [
    "from collections import Counter\n",
    "from gensim.models.word2vec import Word2Vec"
   ]
  },
  {
   "cell_type": "code",
   "execution_count": 2,
   "metadata": {},
   "outputs": [],
   "source": [
    "data_file = \"../raw_data/demo.csv\"\n",
    "lines = open(data_file, 'r', encoding='utf-8').read().splitlines()[1:]\n",
    "char_samples = [line.split(',')[1] for line in lines]\n",
    "char_samples = [char_sample.split() for char_sample in char_samples]"
   ]
  },
  {
   "cell_type": "code",
   "execution_count": 3,
   "metadata": {},
   "outputs": [
    {
     "name": "stdout",
     "output_type": "stream",
     "text": [
      "The total number of words in training set is: 7123\n"
     ]
    }
   ],
   "source": [
    "# Calculate the size of vocabulary\n",
    "words = []\n",
    "for char_sample in char_samples:\n",
    "    words.extend(char_sample)\n",
    "print(\"The total number of words in training set is: %d\" % len(set(words)))"
   ]
  },
  {
   "cell_type": "code",
   "execution_count": 4,
   "metadata": {},
   "outputs": [],
   "source": [
    "# Train model\n",
    "model = Word2Vec(char_samples, size=300, min_count=1)\n",
    "# model = Word2Vec(size=300)\n",
    "# model.build_vocab(char_samples)\n",
    "# model.train(char_samples, total_examples=model.corpus_count, epochs=model.iter)\n",
    "\n",
    "# Save model\n",
    "model.wv.save(\"datagrand-char-300d.bin\")\n",
    "model.wv.save_word2vec_format(\"datagrand-char-300d.txt\", binary=False)"
   ]
  },
  {
   "cell_type": "code",
   "execution_count": null,
   "metadata": {},
   "outputs": [],
   "source": []
  }
 ],
 "metadata": {
  "kernelspec": {
   "display_name": "Python 3",
   "language": "python",
   "name": "python3"
  },
  "language_info": {
   "codemirror_mode": {
    "name": "ipython",
    "version": 3
   },
   "file_extension": ".py",
   "mimetype": "text/x-python",
   "name": "python",
   "nbconvert_exporter": "python",
   "pygments_lexer": "ipython3",
   "version": "3.6.5"
  }
 },
 "nbformat": 4,
 "nbformat_minor": 2
}
