{
 "cells": [
  {
   "cell_type": "code",
   "execution_count": 1,
   "metadata": {},
   "outputs": [
    {
     "name": "stderr",
     "output_type": "stream",
     "text": [
      "D:\\Anaconda3\\envs\\py3_for_prac\\lib\\site-packages\\gensim\\utils.py:1209: UserWarning: detected Windows; aliasing chunkize to chunkize_serial\n",
      "  warnings.warn(\"detected Windows; aliasing chunkize to chunkize_serial\")\n"
     ]
    }
   ],
   "source": [
    "import gc\n",
    "from gensim.models.word2vec import Word2Vec"
   ]
  },
  {
   "cell_type": "code",
   "execution_count": 2,
   "metadata": {},
   "outputs": [],
   "source": [
    "def load_char_samples(train_data_file, test_data_file):\n",
    "    \"\"\"Load training and testing data, get the characters of each sample in two dataset and return.\"\"\"\n",
    "    train_lines = open(train_data_file, 'r', encoding='utf-8').read().splitlines()[1:]\n",
    "    test_lines = open(test_data_file, 'r', encoding='utf-8').read().splitlines()[1:]\n",
    "\n",
    "    train_char_samples = [line.split(',')[1] for line in train_lines]\n",
    "    test_char_samples = [line.split(',')[1] for line in test_lines]\n",
    "    char_samples = train_char_samples + test_char_samples\n",
    "\n",
    "    char_samples = [char_sample.split() for char_sample in char_samples]\n",
    "\n",
    "    return char_samples"
   ]
  },
  {
   "cell_type": "code",
   "execution_count": 3,
   "metadata": {},
   "outputs": [],
   "source": [
    "def batch_iter(data, batch_size=5000):\n",
    "    \"\"\"Generate batch iterator.\"\"\"\n",
    "    data_size = len(data)\n",
    "    num_batches = ((data_size - 1) // batch_size) + 1\n",
    "    for batch_num in range(num_batches):\n",
    "        start_index = batch_num * batch_size\n",
    "        end_index = min((batch_num + 1) * batch_size, data_size)\n",
    "        yield data[start_index:end_index]"
   ]
  },
  {
   "cell_type": "code",
   "execution_count": null,
   "metadata": {},
   "outputs": [],
   "source": [
    "# Load data\n",
    "train_data_file = \"../raw_data/train_set.csv\"\n",
    "test_data_file = \"../raw_data/test_set.csv\"\n",
    "sentences = load_char_samples(train_data_file, test_data_file)\n",
    "print(\"The number of samples in both training and testing dataset is: %d\" % len(sentences))"
   ]
  },
  {
   "cell_type": "code",
   "execution_count": null,
   "metadata": {},
   "outputs": [],
   "source": [
    "# Calculate the size of vocabulary\n",
    "words = []\n",
    "for sentence in sentences:\n",
    "    words.extend(sentence)\n",
    "print(\"The total number of words in training set is: %d\" % len(set(words)))"
   ]
  },
  {
   "cell_type": "code",
   "execution_count": 8,
   "metadata": {},
   "outputs": [
    {
     "name": "stdout",
     "output_type": "stream",
     "text": [
      "Word2Vec(vocab=8303, size=300, alpha=0.025)\n"
     ]
    }
   ],
   "source": [
    "# Train model\n",
    "model = Word2Vec(size=300, min_count=1)\n",
    "model.build_vocab(sentences)\n",
    "print(model)\n",
    "\n",
    "batches = batch_iter(sentences, batch_size=5000)\n",
    "for batch in batches:\n",
    "    model.train(batch, total_examples=model.corpus_count, epochs=model.epochs)"
   ]
  },
  {
   "cell_type": "code",
   "execution_count": 12,
   "metadata": {},
   "outputs": [],
   "source": [
    "# Save word2vec model\n",
    "model.wv.save(\"datagrand-char-300d.bin\")\n",
    "model.wv.save_word2vec_format(\"datagrand-char-300d.txt\", binary=False)"
   ]
  },
  {
   "cell_type": "code",
   "execution_count": null,
   "metadata": {},
   "outputs": [],
   "source": []
  }
 ],
 "metadata": {
  "kernelspec": {
   "display_name": "Python 3",
   "language": "python",
   "name": "python3"
  },
  "language_info": {
   "codemirror_mode": {
    "name": "ipython",
    "version": 3
   },
   "file_extension": ".py",
   "mimetype": "text/x-python",
   "name": "python",
   "nbconvert_exporter": "python",
   "pygments_lexer": "ipython3",
   "version": "3.6.5"
  }
 },
 "nbformat": 4,
 "nbformat_minor": 2
}
