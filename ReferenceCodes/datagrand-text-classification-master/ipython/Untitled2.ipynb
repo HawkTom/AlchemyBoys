{
 "cells": [
  {
   "cell_type": "code",
   "execution_count": 17,
   "metadata": {},
   "outputs": [],
   "source": [
    "import os\n",
    "import numpy as np\n",
    "import pandas as pd\n",
    "from tqdm import tqdm"
   ]
  },
  {
   "cell_type": "code",
   "execution_count": 2,
   "metadata": {},
   "outputs": [],
   "source": [
    "def to_categorical(y, num_classes=None):\n",
    "    \"\"\"Convert a class vector (integers) to binary class matrix.\n",
    "\n",
    "    Args:\n",
    "        y: class vector to be converted into a matrix\n",
    "        (integers from 0 to `num_classes` - 1)\n",
    "        num_classes: total number of classes\n",
    "\n",
    "    Returns:\n",
    "        categorical: A binary matrix representation of `y`\n",
    "    \"\"\"\n",
    "    y = np.array(y, dtype=np.int32)\n",
    "    input_shape = y.shape\n",
    "    if input_shape and input_shape[-1] == 1 and len(input_shape) > 1:\n",
    "        input_shape = tuple(input_shape[:-1])\n",
    "    y = y.ravel()\n",
    "    if not num_classes:\n",
    "        num_classes = np.max(y) + 1\n",
    "    n = y.shape[0]\n",
    "    categorical = np.zeros((n, num_classes), dtype=np.float32)\n",
    "    categorical[np.arange(n), y] = 1\n",
    "    output_shape = input_shape + (num_classes,)\n",
    "    categorical = np.reshape(categorical, output_shape)\n",
    "    return categorical"
   ]
  },
  {
   "cell_type": "code",
   "execution_count": 3,
   "metadata": {},
   "outputs": [],
   "source": [
    "train_data_file = \"../processed_data/train_ids_and_labels.txt\"\n",
    "data_train = pd.read_csv(train_data_file)\n",
    "y = data_train['class'].values - 1\n",
    "X = data_train.drop(['class'], axis=1).values\n",
    "\n",
    "# Convert a class vector (integers) to binary class matrix\n",
    "y = to_categorical(y)"
   ]
  },
  {
   "cell_type": "code",
   "execution_count": 15,
   "metadata": {},
   "outputs": [],
   "source": [
    "# Randomly shuffle data\n",
    "np.random.seed(42)\n",
    "indices_shuffled = np.random.permutation(range(len(X)))\n",
    "X_shuffled = X[indices_shuffled]\n",
    "y_shuffled = y[indices_shuffled]"
   ]
  },
  {
   "cell_type": "code",
   "execution_count": 27,
   "metadata": {},
   "outputs": [],
   "source": [
    "val_sample_index = -1 * int(0.1 * len(y))\n",
    "X_train, X_val = X_shuffled[:val_sample_index], X_shuffled[val_sample_index:]\n",
    "y_train, y_val = y_shuffled[:val_sample_index], y_shuffled[val_sample_index:]"
   ]
  },
  {
   "cell_type": "code",
   "execution_count": 20,
   "metadata": {},
   "outputs": [
    {
     "name": "stderr",
     "output_type": "stream",
     "text": [
      "100%|██████████████████████████████████████████| 40/40 [00:00<00:00, 85.47it/s]\n"
     ]
    }
   ],
   "source": [
    "save_dir = \"../processed_data/word/train\"\n",
    "\n",
    "if not os.path.exists(save_dir):\n",
    "    os.makedirs(save_dir)\n",
    "\n",
    "batch_size = 128\n",
    "num_batches = ((len(X) - 1) // batch_size) + 1\n",
    "for i in tqdm(range(num_batches)):\n",
    "    start_index = i * batch_size\n",
    "    end_index = min(batch_size * (i + 1), len(X))\n",
    "    save_path = os.path.join(save_dir, '%d.npz' % i)\n",
    "    X_batch, y_batch = X[start_index:end_index], y[start_index:end_index]\n",
    "    np.savez(save_path, X=X_batch, y=y_batch)"
   ]
  },
  {
   "cell_type": "code",
   "execution_count": 28,
   "metadata": {},
   "outputs": [],
   "source": [
    "def save_train_data_to_batches(save_dir, X, y, batch_size=128):\n",
    "    \"\"\"Save training (or validation) set to small batches.\"\"\"\n",
    "    if not os.path.exists(save_dir):\n",
    "        os.makedirs(save_dir)\n",
    "        \n",
    "    num_samples = len(X)\n",
    "    num_batches = ((num_samples - 1) // batch_size) + 1\n",
    "    for i in tqdm(range(num_batches)):\n",
    "        start_index = batch_size * i\n",
    "        end_index = min(batch_size * (i + 1), num_samples)\n",
    "        save_path = os.path.join(save_dir, '%d.npz' % i)\n",
    "        X_batch, y_bath = X[start_index:end_index], y[start_index:end_index]\n",
    "        np.savez(save_path, X=X_batch, y=y_batch)"
   ]
  },
  {
   "cell_type": "code",
   "execution_count": 30,
   "metadata": {},
   "outputs": [
    {
     "name": "stderr",
     "output_type": "stream",
     "text": [
      "100%|█████████████████████████████████████████| 40/40 [00:00<00:00, 108.11it/s]\n"
     ]
    }
   ],
   "source": [
    "save_dir = \"../processed_data/word/train/\"\n",
    "save_train_data_to_batches(save_dir, X_train, y_train, batch_size=128)"
   ]
  },
  {
   "cell_type": "code",
   "execution_count": 31,
   "metadata": {},
   "outputs": [],
   "source": [
    "file_path = \"../processed_data/word/train/0.npz\"\n",
    "temp = np.load(file_path)"
   ]
  },
  {
   "cell_type": "code",
   "execution_count": null,
   "metadata": {},
   "outputs": [],
   "source": []
  }
 ],
 "metadata": {
  "kernelspec": {
   "display_name": "Python 3",
   "language": "python",
   "name": "python3"
  },
  "language_info": {
   "codemirror_mode": {
    "name": "ipython",
    "version": 3
   },
   "file_extension": ".py",
   "mimetype": "text/x-python",
   "name": "python",
   "nbconvert_exporter": "python",
   "pygments_lexer": "ipython3",
   "version": "3.6.5"
  }
 },
 "nbformat": 4,
 "nbformat_minor": 2
}
