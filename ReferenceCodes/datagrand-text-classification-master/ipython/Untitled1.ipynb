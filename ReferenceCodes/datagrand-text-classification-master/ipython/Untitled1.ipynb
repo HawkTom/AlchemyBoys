{
 "cells": [
  {
   "cell_type": "code",
   "execution_count": 1,
   "metadata": {},
   "outputs": [],
   "source": [
    "import pickle\n",
    "import numpy as np\n",
    "import pandas as pd\n",
    "from time import time"
   ]
  },
  {
   "cell_type": "code",
   "execution_count": 2,
   "metadata": {},
   "outputs": [],
   "source": [
    "# Global variable\n",
    "PAD_STR = '<PAD>'"
   ]
  },
  {
   "cell_type": "code",
   "execution_count": 3,
   "metadata": {},
   "outputs": [],
   "source": [
    "def load_mapping_table(mapping_table_file):\n",
    "    \"\"\"Load the mapping table from words (characters) to its corresponding ids.\"\"\"\n",
    "    with open(mapping_table_file, 'rb') as fin:\n",
    "        mapping_table = pickle.load(fin)\n",
    "    return mapping_table"
   ]
  },
  {
   "cell_type": "code",
   "execution_count": 4,
   "metadata": {},
   "outputs": [],
   "source": [
    "def load_samples_and_labels(data_path, header=True, col=1, train=True):\n",
    "    \"\"\"Load words (or characters) and its label of all the samples.\"\"\"\n",
    "    if header:\n",
    "        start_index = 1\n",
    "    else:\n",
    "        start_index = 0\n",
    "\n",
    "    with open(data_path, 'r', encoding='utf-8') as f:\n",
    "        lines = f.read().splitlines()[start_index:]\n",
    "        samples = [line.split(',')[col] for line in lines]\n",
    "        samples = [sample.split() for sample in samples]\n",
    "\n",
    "    if train:\n",
    "        labels = [int(line.split(',')[3]) for line in lines]\n",
    "    else:\n",
    "        labels = []\n",
    "\n",
    "    return samples, labels"
   ]
  },
  {
   "cell_type": "code",
   "execution_count": 5,
   "metadata": {},
   "outputs": [],
   "source": [
    "def truncate(data, sequence_length=3000):\n",
    "    \"\"\"Truncate the words (characters) of each sample to a fixed length.\"\"\"\n",
    "    res = []\n",
    "    for sample in data:\n",
    "        if len(sample) > sequence_length:\n",
    "            sample = sample[:sequence_length]\n",
    "            res.append(sample)\n",
    "        else:\n",
    "            str_added = [PAD_STR] * (sequence_length - len(sample))\n",
    "            sample += str_added\n",
    "            res.append(sample)\n",
    "    return res"
   ]
  },
  {
   "cell_type": "code",
   "execution_count": 6,
   "metadata": {},
   "outputs": [],
   "source": [
    "def transform_to_ids(data, word_to_id_map):\n",
    "    \"\"\"Transform the words (characters) of a sample to its ids.\"\"\"\n",
    "    res = list()\n",
    "    for words in data:\n",
    "        ids = list()\n",
    "        for word in words:\n",
    "            ids.append(word_to_id_map.get(word, 1))  # 1 is the id of '<UNK>'\n",
    "            # if word in word_to_id_map:\n",
    "            #     ids.append(word_to_id_map[word])\n",
    "            # else:\n",
    "            #     ids.append(1)  # 1 is the id of '<UNK>'\n",
    "        res.append(ids)\n",
    "    return res"
   ]
  },
  {
   "cell_type": "code",
   "execution_count": 8,
   "metadata": {},
   "outputs": [
    {
     "name": "stdout",
     "output_type": "stream",
     "text": [
      "[INFO] Load the mapping from characters to its corresponding ids...\n",
      "[INFO] Finished!\n"
     ]
    }
   ],
   "source": [
    "# Load the mapping table from characters to its ids\n",
    "# ======================================================================================\n",
    "\n",
    "print(\"[INFO] Load the mapping from characters to its corresponding ids...\")\n",
    "char_to_id_file = \"../embeddings/char2id.pkl\"\n",
    "char_to_id_map = load_mapping_table(char_to_id_file)\n",
    "print(\"[INFO] Finished!\")"
   ]
  },
  {
   "cell_type": "code",
   "execution_count": 9,
   "metadata": {},
   "outputs": [
    {
     "name": "stdout",
     "output_type": "stream",
     "text": [
      "[INFO] Loading data...\n",
      "[INFO] Finished!\n"
     ]
    }
   ],
   "source": [
    "print(\"[INFO] Loading data...\")\n",
    "train_char_samples_file = \"../raw_data/train_demo.csv\"\n",
    "test_char_samples_file = \"../raw_data/test_demo.csv\"\n",
    "chars_train, labels_train = load_samples_and_labels(train_char_samples_file, header=True, col=1, train=True)\n",
    "chars_test, _ = load_samples_and_labels(test_char_samples_file, header=True, col=1, train=False)\n",
    "print(\"[INFO] Finished!\")"
   ]
  },
  {
   "cell_type": "code",
   "execution_count": 10,
   "metadata": {},
   "outputs": [
    {
     "name": "stdout",
     "output_type": "stream",
     "text": [
      "[INFO] Truncate to fixed length...\n",
      "[INFO] Finished!\n"
     ]
    }
   ],
   "source": [
    "print(\"[INFO] Truncate to fixed length...\")\n",
    "char_sequence_length = 3000\n",
    "chars_train = truncate(chars_train, sequence_length=char_sequence_length)\n",
    "chars_test = truncate(chars_test, sequence_length=char_sequence_length)\n",
    "print(\"[INFO] Finished!\")"
   ]
  },
  {
   "cell_type": "code",
   "execution_count": 11,
   "metadata": {},
   "outputs": [
    {
     "name": "stdout",
     "output_type": "stream",
     "text": [
      "[INFO] Transform characters to its corresponding ids...\n",
      "[INFO] Done in 7.363 seconds.\n",
      "[INFO] Finished!\n"
     ]
    }
   ],
   "source": [
    "print(\"[INFO] Transform characters to its corresponding ids...\")\n",
    "t0 = time()\n",
    "ids_train = transform_to_ids(chars_train, char_to_id_map)\n",
    "ids_test = transform_to_ids(chars_test, char_to_id_map)\n",
    "print(\"[INFO] Done in %.3f seconds.\" % (time() - t0))\n",
    "print(\"[INFO] Finished!\")"
   ]
  },
  {
   "cell_type": "code",
   "execution_count": 12,
   "metadata": {},
   "outputs": [
    {
     "name": "stdout",
     "output_type": "stream",
     "text": [
      "[INFO] Save to file...\n",
      "[INFO] Finished! ( ^ _ ^ ) V\n"
     ]
    }
   ],
   "source": [
    "ids_train = pd.DataFrame(ids_train, dtype=np.int32)\n",
    "ids_train['class'] = pd.Series(labels_train, dtype=np.int32)\n",
    "ids_test = pd.DataFrame(ids_test, dtype=np.int32)\n",
    "\n",
    "print(\"[INFO] Save to file...\")\n",
    "ids_train.to_csv(\"../processed_data/train_ids_and_labels.txt\", index=False)\n",
    "ids_test.to_csv(\"../processed_data/test_ids.txt\", index=False)\n",
    "print(\"[INFO] Finished! ( ^ _ ^ ) V\")"
   ]
  },
  {
   "cell_type": "code",
   "execution_count": null,
   "metadata": {},
   "outputs": [],
   "source": []
  }
 ],
 "metadata": {
  "kernelspec": {
   "display_name": "Python 3",
   "language": "python",
   "name": "python3"
  },
  "language_info": {
   "codemirror_mode": {
    "name": "ipython",
    "version": 3
   },
   "file_extension": ".py",
   "mimetype": "text/x-python",
   "name": "python",
   "nbconvert_exporter": "python",
   "pygments_lexer": "ipython3",
   "version": "3.6.5"
  }
 },
 "nbformat": 4,
 "nbformat_minor": 2
}
