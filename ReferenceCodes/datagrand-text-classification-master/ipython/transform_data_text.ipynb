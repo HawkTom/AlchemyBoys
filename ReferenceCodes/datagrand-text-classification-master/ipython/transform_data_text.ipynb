{
 "cells": [
  {
   "cell_type": "code",
   "execution_count": 1,
   "metadata": {},
   "outputs": [],
   "source": [
    "import pickle\n",
    "import numpy as np\n",
    "import pandas as pd"
   ]
  },
  {
   "cell_type": "code",
   "execution_count": 2,
   "metadata": {},
   "outputs": [],
   "source": [
    "# Global variable\n",
    "PAD_STR = '<PAD>'\n",
    "SEQUENCE_LENGTH = 2000  # documents with the number of words less than 2000 is 95.3147%"
   ]
  },
  {
   "cell_type": "code",
   "execution_count": 3,
   "metadata": {},
   "outputs": [],
   "source": [
    "def load_word_samples_and_labels(data_path, header=True, train=True):\n",
    "    \"\"\"Load words and labels of each sample (document).\"\"\"\n",
    "    if header:\n",
    "        start_index = 1\n",
    "    else:\n",
    "        start_index = 0\n",
    "\n",
    "    with open(data_path, 'r', encoding='utf-8') as f:\n",
    "        lines = f.read().splitlines()[start_index:]\n",
    "        word_samples = [line.split(',')[2] for line in lines]\n",
    "        word_samples = [word_sample.split() for word_sample in word_samples]\n",
    "\n",
    "    if train:\n",
    "        labels = [int(line.split(',')[3]) for line in lines]\n",
    "    else:\n",
    "        labels = []\n",
    "\n",
    "    return word_samples, labels"
   ]
  },
  {
   "cell_type": "code",
   "execution_count": 4,
   "metadata": {},
   "outputs": [],
   "source": [
    "def preprocess(data, sequence_length=3000):\n",
    "    \"\"\"Process the words of each sample to a fixed length.\"\"\"\n",
    "    res = []\n",
    "    for sample in data:\n",
    "        if len(sample) > sequence_length:\n",
    "            sample = sample[:sequence_length]\n",
    "            res.append(sample)\n",
    "        else:\n",
    "            str_added = [PAD_STR] * (sequence_length - len(sample))\n",
    "            sample += str_added\n",
    "            res.append(sample)\n",
    "    return res"
   ]
  },
  {
   "cell_type": "code",
   "execution_count": 5,
   "metadata": {},
   "outputs": [],
   "source": [
    "def transform_to_ids(data, word_to_id_map):\n",
    "    \"\"\"Transform the words (characters) of a sample to its ids.\"\"\"\n",
    "    res = list()\n",
    "    for words in data:\n",
    "        ids = list()\n",
    "        for word in words:\n",
    "            if word in word_to_id_map:\n",
    "                ids.append(word_to_id_map[word])\n",
    "            else:\n",
    "                ids.append(1)  # 1 is the id of '<UNK>'\n",
    "        res.append(ids)\n",
    "    return res"
   ]
  },
  {
   "cell_type": "code",
   "execution_count": 6,
   "metadata": {},
   "outputs": [
    {
     "name": "stdout",
     "output_type": "stream",
     "text": [
      "Load the mapping from words to its corresponding ids...\n"
     ]
    }
   ],
   "source": [
    "# Load the mapping from words to its corresponding ids\n",
    "# ======================================================================================\n",
    "\n",
    "print(\"Load the mapping from words to its corresponding ids...\")\n",
    "word2id_file = \"../processed_data/word2id.pkl\"\n",
    "with open(word2id_file, 'rb') as fin:\n",
    "    word_to_id_map = pickle.load(fin)"
   ]
  },
  {
   "cell_type": "code",
   "execution_count": 7,
   "metadata": {},
   "outputs": [
    {
     "name": "stdout",
     "output_type": "stream",
     "text": [
      "Load data...\n",
      "Truncate to fixed length...\n",
      "Transform to ids...\n"
     ]
    }
   ],
   "source": [
    "# Load data, truncate to fixed length and transform to ids\n",
    "# ======================================================================================\n",
    "\n",
    "print(\"Load data...\")\n",
    "train_data_file = \"../raw_data/train_demo.csv\"\n",
    "test_data_file = \"../raw_data/test_demo.csv\"\n",
    "words_train, labels_train = load_word_samples_and_labels(train_data_file, header=True, train=True)\n",
    "words_test, _ = load_word_samples_and_labels(test_data_file, header=True, train=False)\n",
    "\n",
    "print(\"Truncate to fixed length...\")\n",
    "words_train = preprocess(words_train, sequence_length=SEQUENCE_LENGTH)\n",
    "words_test = preprocess(words_test, sequence_length=SEQUENCE_LENGTH)\n",
    "\n",
    "print(\"Transform to ids...\")\n",
    "ids_train = transform_to_ids(words_train, word_to_id_map)\n",
    "ids_test = transform_to_ids(words_test, word_to_id_map)"
   ]
  },
  {
   "cell_type": "code",
   "execution_count": 8,
   "metadata": {},
   "outputs": [
    {
     "name": "stdout",
     "output_type": "stream",
     "text": [
      "Save to file...\n",
      "Finished! ( ^ _ ^ ) V\n"
     ]
    }
   ],
   "source": [
    "# Save to file\n",
    "# ======================================================================================\n",
    "\n",
    "ids_train = pd.DataFrame(ids_train, dtype=np.int32)\n",
    "ids_train['class'] = pd.Series(labels_train, dtype=np.int32)\n",
    "ids_test = pd.DataFrame(ids_test, dtype=np.int32)\n",
    "\n",
    "print(\"Save to file...\")\n",
    "ids_train.to_csv(\"../processed_data/train_ids_and_labels.txt\", index=False)\n",
    "ids_test.to_csv(\"../processed_data/test_ids.txt\", index=False)\n",
    "print(\"Finished! ( ^ _ ^ ) V\")"
   ]
  },
  {
   "cell_type": "code",
   "execution_count": null,
   "metadata": {},
   "outputs": [],
   "source": []
  }
 ],
 "metadata": {
  "kernelspec": {
   "display_name": "Python 3",
   "language": "python",
   "name": "python3"
  },
  "language_info": {
   "codemirror_mode": {
    "name": "ipython",
    "version": 3
   },
   "file_extension": ".py",
   "mimetype": "text/x-python",
   "name": "python",
   "nbconvert_exporter": "python",
   "pygments_lexer": "ipython3",
   "version": "3.6.5"
  }
 },
 "nbformat": 4,
 "nbformat_minor": 2
}
