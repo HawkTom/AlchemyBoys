{
 "cells": [
  {
   "cell_type": "code",
   "execution_count": 1,
   "metadata": {},
   "outputs": [],
   "source": [
    "import gc\n",
    "import numpy as np\n",
    "import pandas as pd\n",
    "import matplotlib.pyplot as plt\n",
    "from collections import Counter\n",
    "\n",
    "%matplotlib inline"
   ]
  },
  {
   "cell_type": "markdown",
   "metadata": {},
   "source": [
    "## 1、句子的长度"
   ]
  },
  {
   "cell_type": "code",
   "execution_count": 2,
   "metadata": {},
   "outputs": [
    {
     "name": "stdout",
     "output_type": "stream",
     "text": [
      "The total number of samples is: 102277\n",
      "The max length of sentence in training set is: 55804\n",
      "The min length of sentence in training set is: 50\n",
      "The average length of sentence in training set is: 1177.1\n"
     ]
    },
    {
     "data": {
      "text/plain": [
       "11"
      ]
     },
     "execution_count": 2,
     "metadata": {},
     "output_type": "execute_result"
    }
   ],
   "source": [
    "import gc\n",
    "\n",
    "data_path = \"../raw_data/train_set.csv\"\n",
    "with open(data_path, 'r', encoding='utf-8') as f:\n",
    "    lines = f.readlines()[1:]\n",
    "\n",
    "num_samples = len(lines)\n",
    "print(\"The total number of samples is: %d\" % len(lines))\n",
    "\n",
    "char_samples = [line.split(',')[1] for line in lines]\n",
    "char_sample_lengths = [len(char_sample.split()) for char_sample in char_samples]\n",
    "print(\"The max length of sentence in training set is: %d\" % max(char_sample_lengths))\n",
    "print(\"The min length of sentence in training set is: %d\" % min(char_sample_lengths))\n",
    "print(\"The average length of sentence in training set is: %.1f\" % (sum(char_sample_lengths) / float(num_samples)))\n",
    "\n",
    "del lines\n",
    "gc.collect()"
   ]
  },
  {
   "cell_type": "code",
   "execution_count": 3,
   "metadata": {},
   "outputs": [
    {
     "data": {
      "text/plain": [
       "<matplotlib.axes._subplots.AxesSubplot at 0x905bfd0>"
      ]
     },
     "execution_count": 3,
     "metadata": {},
     "output_type": "execute_result"
    },
    {
     "data": {
      "image/png": "[encoded data removed]",
      "text/plain": [
       "<matplotlib.figure.Figure at 0x905b748>"
      ]
     },
     "metadata": {},
     "output_type": "display_data"
    }
   ],
   "source": [
    "length_counts = pd.DataFrame(char_sample_lengths)[0].value_counts()\n",
    "length_counts[:100].plot(kind='bar', figsize=(15, 10))"
   ]
  },
  {
   "cell_type": "code",
   "execution_count": 4,
   "metadata": {},
   "outputs": [
    {
     "name": "stdout",
     "output_type": "stream",
     "text": [
      "The percentage of sentence length is less than 3072 is: 94.4601%\n"
     ]
    }
   ],
   "source": [
    "length_counts = length_counts.reset_index()\n",
    "length_counts.rename(columns={'index': 'num_chars', 0: 'count'}, inplace=True)\n",
    "\n",
    "# filter_cond = (length_counts['num_chars'] >= 500) & (length_counts['num_chars'] <= 3000)\n",
    "filter_cond = length_counts['num_chars'] < 3072\n",
    "\n",
    "percentage = np.sum(length_counts[filter_cond]['count']) / num_samples\n",
    "print(\"The percentage of sentence length is less than 3072 is: %.4f%%\" % (percentage * 100))"
   ]
  },
  {
   "cell_type": "markdown",
   "metadata": {},
   "source": [
    "**小结：**\n",
    "1. 训练样本（句子）的数目是102277，其中，句子包含最多的字符数为55804、最少的字符数为50，即句子长度的跨度非常大；\n",
    "2. 句子长度小于3072的样本数目占了94.5%左右，因此，我们将句子的长度设置为3072."
   ]
  },
  {
   "cell_type": "code",
   "execution_count": null,
   "metadata": {},
   "outputs": [],
   "source": []
  }
 ],
 "metadata": {
  "kernelspec": {
   "display_name": "Python 3",
   "language": "python",
   "name": "python3"
  },
  "language_info": {
   "codemirror_mode": {
    "name": "ipython",
    "version": 3
   },
   "file_extension": ".py",
   "mimetype": "text/x-python",
   "name": "python",
   "nbconvert_exporter": "python",
   "pygments_lexer": "ipython3",
   "version": "3.6.5"
  }
 },
 "nbformat": 4,
 "nbformat_minor": 2
}
